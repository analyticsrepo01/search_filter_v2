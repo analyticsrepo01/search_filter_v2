{
 "cells": [
  {
   "cell_type": "markdown",
   "metadata": {
    "id": "359697d5"
   },
   "source": [
    "# Vertex AI Search with Filters & Metadata\n",
    "\n"
   ]
  },
  {
   "cell_type": "markdown",
   "metadata": {
    "id": "31280da3e872"
   },
   "source": [
    "\n",
    "## Objective\n",
    "\n",
    "This notebook shows how to use [filters and metadata](https://cloud.google.com/generative-ai-app-builder/docs/filter-search-metadata) in search requests to [Vertex AI Search](https://cloud.google.com/generative-ai-app-builder/docs/introduction).\n",
    "\n",
    "This works with unstructured apps that contain metadata. You can use metadata fields to restrict your search to a specific set of documents.\n"
   ]
  },
  {
   "cell_type": "markdown",
   "metadata": {
    "id": "zj-AnsYaOSNq"
   },
   "source": [
    "Services used in the notebook:\n",
    "\n",
    "- ✅ Vertex AI Search for document search and retrieval"
   ]
  },
  {
   "cell_type": "markdown",
   "metadata": {
    "id": "pQbOO-Lc-2-7"
   },
   "source": [
    "## Install pre-requisites\n",
    "\n",
    "If running in Colab install the pre-requisites into the runtime. Otherwise it is assumed that the notebook is running in Vertex AI Workbench. In that case it is recommended to install the pre-requisites from a terminal using the `--user` option.\n"
   ]
  },
  {
   "cell_type": "code",
   "execution_count": 1,
   "metadata": {
    "id": "ohPUPez8imvE"
   },
   "outputs": [
    {
     "name": "stdout",
     "output_type": "stream",
     "text": [
      "Note: you may need to restart the kernel to use updated packages.\n"
     ]
    }
   ],
   "source": [
    "%pip install -q google-cloud-discoveryengine==0.11.2 --upgrade --user"
   ]
  },
  {
   "cell_type": "markdown",
   "metadata": {
    "id": "R5Xep4W9lq-Z"
   },
   "source": [
    "### Restart current runtime\n",
    "\n",
    "To use the newly installed packages in this Jupyter runtime, you must restart the runtime. You can do this by running the cell below, which will restart the current kernel."
   ]
  },
  {
   "cell_type": "code",
   "execution_count": 2,
   "metadata": {
    "id": "XRvKdaPDTznN"
   },
   "outputs": [],
   "source": [
    "# Restart kernel after installs so that your environment can access the new packages\n",
    "\n",
    "# import IPython\n",
    "\n",
    "# app = IPython.Application.instance()\n",
    "# app.kernel.do_shutdown(True)"
   ]
  },
  {
   "cell_type": "markdown",
   "metadata": {
    "id": "SbmM4z7FOBpM"
   },
   "source": [
    "<div class=\"alert alert-block alert-warning\">\n",
    "<b>⚠️ The kernel is going to restart. Please wait until it is finished before continuing to the next step. ⚠️</b>\n",
    "</div>\n"
   ]
  },
  {
   "cell_type": "markdown",
   "metadata": {
    "id": "8vEczuYo_r-g"
   },
   "source": [
    "## Authenticate\n",
    "\n",
    "If running in Colab authenticate with `google.colab.google.auth` otherwise assume that running on Vertex AI Workbench.\n"
   ]
  },
  {
   "cell_type": "code",
   "execution_count": 3,
   "metadata": {
    "id": "loTfn0KniwB2"
   },
   "outputs": [],
   "source": [
    "import sys\n",
    "\n",
    "if \"google.colab\" in sys.modules:\n",
    "    from google.colab import auth as google_auth\n",
    "\n",
    "    google_auth.authenticate_user()\n",
    "\n",
    "from google.auth import default\n",
    "\n",
    "creds, _ = default()"
   ]
  },
  {
   "cell_type": "markdown",
   "metadata": {
    "id": "_ARUa9gEK74l"
   },
   "source": [
    "## Configure notebook environment\n"
   ]
  },
  {
   "cell_type": "markdown",
   "metadata": {
    "id": "a5106c79f63a"
   },
   "source": [
    "## Data store metadata\n",
    "\n",
    "Metadata for the data store `<DATA_STORE_ID>` looks like this:\n",
    "\n",
    "```json\n",
    "{\n",
    "  \"id\": \"1\",\n",
    "  \"structData\": {\n",
    "    \"title\": \"Document1\",\n",
    "    \"category\": [\n",
    "      \"PersonaA\"\n",
    "    ],\n",
    "    \"name\": \"Document1\"\n",
    "  },\n",
    "  \"content\": {\n",
    "    \"mimeType\": \"application/pdf\",\n",
    "    \"uri\": \"gs://<BUCKETNAME>/data/Document1\"\n",
    "  }\n",
    "}\n",
    "```\n",
    "\n",
    "```json\n",
    "{\n",
    "  \"id\": \"2\",\n",
    "  \"structData\": {\n",
    "    \"title\": \"Document2\",\n",
    "    \"category\": [\n",
    "      \"PersonaA\",\n",
    "      \"PersonaB\"\n",
    "    ],\n",
    "    \"name\": \"Document2\"\n",
    "  },\n",
    "  \"content\": {\n",
    "    \"mimeType\": \"application/pdf\",\n",
    "    \"uri\": \"gs://<BUCKETNAME>/data/Document2\"\n",
    "  }\n",
    "}\n",
    "```"
   ]
  },
  {
   "cell_type": "markdown",
   "metadata": {
    "id": "66ff7614"
   },
   "source": [
    "### Set the following constants to reflect your environment"
   ]
  },
  {
   "cell_type": "code",
   "execution_count": 4,
   "metadata": {
    "id": "058996c2ad84"
   },
   "outputs": [],
   "source": [
    "PROJECT_ID = \"my-project-0004-346516\"\n",
    "LOCATION = \"global\"  # Replace with your data store location\n",
    "DATA_STORE_ID = 'cymbal-financial-datastore_1727706682106' #\"cymbal-google-financial_1727706596157\""
   ]
  },
  {
   "cell_type": "markdown",
   "metadata": {
    "id": "8d308ea479a0"
   },
   "source": [
    "### REST API examples"
   ]
  },
  {
   "cell_type": "markdown",
   "metadata": {
    "id": "f3235a9f98cb"
   },
   "source": [
    "The filter `name: ANY(\"Document1\")` ensures the query is against only the documents with `name` matching `Document1`."
   ]
  },
  {
   "cell_type": "code",
   "execution_count": 5,
   "metadata": {
    "id": "6c68c5efc8d2"
   },
   "outputs": [
    {
     "name": "stderr",
     "output_type": "stream",
     "text": [
      "  % Total    % Received % Xferd  Average Speed   Time    Time     Time  Current\n",
      "                                 Dload  Upload   Total   Spent    Left  Speed\n",
      "100   499    0   446  100    53   3484    414 --:--:-- --:--:-- --:--:--  3898\n"
     ]
    },
    {
     "name": "stdout",
     "output_type": "stream",
     "text": [
      "{\n",
      "  \"attributionToken\": \"_gHw_QoMCM6BkroGELbYmqoDEiQ2NzQzNDZkMC0wMDAwLTIxOGUtODZiZC0xNDIyM2JjOWFmMGUiB0dFTkVSSUMqvAG3kq4wlJLFMM7mtS-OkckwxPi8MPn2sy2b1rct6d3EMK7Eii3bj5oiq8SKLfz2sy2NpLQwoImzLcTGsTDFy_MXzpq0MMH8yzDej5oimNa3LYCymiKOvp0V5-2ILcfGsTCjgJci1LKdFZbeqC_C8J4Vt7eMLeiCsS2Q97Iwy5q0MJCktDDm3cQwnN3YMKr4sy3R5rUvmd6oL8T8yzCt-LMttJKuMIOymiLrgrEtmd3YMKOJsy3B-Lww5O2ILTAB\",\n",
      "  \"guidedSearchResult\": {},\n",
      "  \"summary\": {},\n",
      "  \"queryExpansionInfo\": {}\n",
      "}\n"
     ]
    }
   ],
   "source": [
    "%%bash -s \"$PROJECT_ID\" \"$LOCATION\" \"$DATA_STORE_ID\"\n",
    "\n",
    "project_id=$1\n",
    "location=$2\n",
    "data_store_id=$3\n",
    "\n",
    "\n",
    "curl -X POST -H \"Authorization: Bearer $(gcloud auth print-access-token)\" \\\n",
    "-H \"Content-Type: application/json\" \\\n",
    "\"https://discoveryengine.googleapis.com/v1beta/projects/$project_id/locations/$location/collections/default_collection/dataStores/$data_store_id/servingConfigs/default_search:search\" \\\n",
    "-d '{\n",
    "\"query\": \"claim\",\n",
    "\"filter\": \"id: ANY(\\\"doc-25\\\")\"\n",
    "}'\n"
   ]
  },
  {
   "cell_type": "markdown",
   "metadata": {
    "id": "654d958918bf"
   },
   "source": [
    "The filter `category: ANY(\"PersonaB\")` ensures the query is against only the documents with `name` matching `Document1`."
   ]
  },
  {
   "cell_type": "code",
   "execution_count": 6,
   "metadata": {},
   "outputs": [],
   "source": [
    "# cymbal-financial-datastore_1727706682106\n"
   ]
  },
  {
   "cell_type": "code",
   "execution_count": 7,
   "metadata": {
    "id": "7faa56904083"
   },
   "outputs": [
    {
     "name": "stderr",
     "output_type": "stream",
     "text": [
      "  % Total    % Received % Xferd  Average Speed   Time    Time     Time  Current\n",
      "                                 Dload  Upload   Total   Spent    Left  Speed\n",
      "100   280    0   221  100    59   4333   1156 --:--:-- --:--:-- --:--:--  5490\n"
     ]
    },
    {
     "name": "stdout",
     "output_type": "stream",
     "text": [
      "{\n",
      "  \"error\": {\n",
      "    \"code\": 400,\n",
      "    \"message\": \"Invalid filter syntax 'title: ANY(\\\"PersonaB\\\")'. Parsing filter failed with error: Unsupported field \\\"title\\\" on \\\":\\\" operator..\",\n",
      "    \"status\": \"INVALID_ARGUMENT\"\n",
      "  }\n",
      "}\n"
     ]
    }
   ],
   "source": [
    "%%bash -s \"$PROJECT_ID\" \"$LOCATION\" \"$DATA_STORE_ID\"\n",
    "\n",
    "project_id=$1\n",
    "location=$2\n",
    "data_store_id=$3\n",
    "\n",
    "curl -X POST -H \"Authorization: Bearer $(gcloud auth print-access-token)\" \\\n",
    "-H \"Content-Type: application/json\" \\\n",
    "\"https://discoveryengine.googleapis.com/v1beta/projects/$project_id/locations/$location/collections/default_collection/dataStores/$data_store_id/servingConfigs/default_search:search\" \\\n",
    "-d '{\n",
    "\"query\": \"claims\",\n",
    "\"filter\": \"title: ANY(\\\"PersonaB\\\")\"\n",
    "}'\n"
   ]
  },
  {
   "cell_type": "markdown",
   "metadata": {
    "id": "3fa2d40ae437"
   },
   "source": [
    "### Python code equivalent"
   ]
  },
  {
   "cell_type": "code",
   "execution_count": 8,
   "metadata": {
    "id": "68cf48879475"
   },
   "outputs": [],
   "source": [
    "from google.api_core.client_options import ClientOptions\n",
    "from google.cloud import discoveryengine_v1beta as discoveryengine\n",
    "\n",
    "\n",
    "def search_data_store(\n",
    "    project_id: str,\n",
    "    location: str,\n",
    "    data_store_id: str,\n",
    "    search_query: str,\n",
    "    filter_str: str,\n",
    ") -> discoveryengine.SearchResponse:\n",
    "    #  For more information, refer to:\n",
    "    # https://cloud.google.com/generative-ai-app-builder/docs/locations#specify_a_multi-region_for_your_data_store\n",
    "    client_options = (\n",
    "        ClientOptions(api_endpoint=f\"{location}-discoveryengine.googleapis.com\")\n",
    "        if location != \"global\"\n",
    "        else None\n",
    "    )\n",
    "\n",
    "    # Create a client\n",
    "    client = discoveryengine.SearchServiceClient(client_options=client_options)\n",
    "\n",
    "    # The full resource name of the search engine serving config\n",
    "    # e.g. projects/{project_id}/locations/{location}/dataStores/{data_store_id}/servingConfigs/{serving_config_id}\n",
    "    serving_config = client.serving_config_path(\n",
    "        project=project_id,\n",
    "        location=location,\n",
    "        data_store=data_store_id,\n",
    "        serving_config=\"default_config\",\n",
    "    )\n",
    "\n",
    "    # Optional: Configuration options for search\n",
    "    # Refer to the `ContentSearchSpec` reference for all supported fields:\n",
    "    # https://cloud.google.com/python/docs/reference/discoveryengine/latest/google.cloud.discoveryengine_v1.types.SearchRequest.ContentSearchSpec\n",
    "    content_search_spec = discoveryengine.SearchRequest.ContentSearchSpec(\n",
    "        # For information about snippets, refer to:\n",
    "        # https://cloud.google.com/generative-ai-app-builder/docs/snippets\n",
    "        snippet_spec=discoveryengine.SearchRequest.ContentSearchSpec.SnippetSpec(\n",
    "            return_snippet=True\n",
    "        ),\n",
    "        extractive_content_spec=discoveryengine.SearchRequest.ContentSearchSpec.ExtractiveContentSpec(\n",
    "            max_extractive_answer_count=5,\n",
    "            max_extractive_segment_count=1,\n",
    "        ),\n",
    "        # For information about search summaries, refer to:\n",
    "        # https://cloud.google.com/generative-ai-app-builder/docs/get-search-summaries\n",
    "        summary_spec=discoveryengine.SearchRequest.ContentSearchSpec.SummarySpec(\n",
    "            summary_result_count=5,\n",
    "            include_citations=True,\n",
    "            ignore_adversarial_query=False,\n",
    "            ignore_non_summary_seeking_query=False,\n",
    "        ),\n",
    "    )\n",
    "\n",
    "    # Refer to the `SearchRequest` reference for all supported fields:\n",
    "    # https://cloud.google.com/python/docs/reference/discoveryengine/latest/google.cloud.discoveryengine_v1.types.SearchRequest\n",
    "    request = discoveryengine.SearchRequest(\n",
    "        serving_config=serving_config,\n",
    "        query=search_query,\n",
    "        filter=filter_str,\n",
    "        page_size=5,\n",
    "        content_search_spec=content_search_spec,\n",
    "        query_expansion_spec=discoveryengine.SearchRequest.QueryExpansionSpec(\n",
    "            condition=discoveryengine.SearchRequest.QueryExpansionSpec.Condition.AUTO,\n",
    "        ),\n",
    "        spell_correction_spec=discoveryengine.SearchRequest.SpellCorrectionSpec(\n",
    "            mode=discoveryengine.SearchRequest.SpellCorrectionSpec.Mode.AUTO\n",
    "        ),\n",
    "    )\n",
    "\n",
    "    response = client.search(request)\n",
    "    return response"
   ]
  },
  {
   "cell_type": "code",
   "execution_count": 9,
   "metadata": {
    "id": "f9b9d4a02d1a"
   },
   "outputs": [
    {
     "name": "stdout",
     "output_type": "stream",
     "text": [
      "\n",
      "Question: 'what are google financial results'\n",
      "\n",
      "\n",
      "Summary----------------------------------------\n",
      "Google's financial results for the third quarter of 2009 are available in a PDF document. [1] The document is titled \"20090630_google_10Q.pdf\" and is categorized as a financial document. [1] The document is located in the \"gs://cloud-samples-data/gen-app-builder/search/alphabet-investor-pdfs\" directory. [1] The document is associated with Alphabet Inc., the parent company of Google. [1] The document is for the third quarter of 2009. [1] \n",
      "\n",
      "Raw Results----------------------------------------\n",
      "SearchPager<results {\n",
      "  id: \"00f88c892eea9b99d85efa30a90c105a\"\n",
      "  document {\n",
      "    name: \"projects/255766800726/locations/global/collections/default_collection/dataStores/cymbal-financial-datastore_1727706682106/branches/0/documents/00f88c892eea9b99d85efa30a90c105a\"\n",
      "    id: \"00f88c892eea9b99d85efa30a90c105a\"\n",
      "    struct_data {\n",
      "      fields {\n",
      "        key: \"content\"\n",
      "        value {\n",
      "          struct_value {\n",
      "            fields {\n",
      "              key: \"mimeType\"\n",
      "              value {\n",
      "                string_value: \"application/pdf\"\n",
      "              }\n",
      "            }\n",
      "            fields {\n",
      "              key: \"uri\"\n",
      "              value {\n",
      "                string_value: \"gs://cloud-samples-data/gen-app-builder/search/alphabet-investor-pdfs/20090630_google_10Q.pdf\"\n",
      "              }\n",
      "            }\n",
      "          }\n",
      "        }\n",
      "      }\n",
      "      fields {\n",
      "        key: \"id\"\n",
      "        value {\n",
      "          string_value: \"doc-25\"\n",
      "        }\n",
      "      }\n",
      "      fields {\n",
      "        key: \"structData\"\n",
      "        value {\n",
      "          struct_value {\n",
      "            fields {\n",
      "              key: \"category\"\n",
      "              value {\n",
      "                string_value: \"financial\"\n",
      "              }\n",
      "            }\n",
      "            fields {\n",
      "              key: \"description\"\n",
      "              value {\n",
      "                string_value: \"Alphabet Inc. financial document - 2009 Q30\"\n",
      "              }\n",
      "            }\n",
      "            fields {\n",
      "              key: \"quarter\"\n",
      "              value {\n",
      "                string_value: \"30\"\n",
      "              }\n",
      "            }\n",
      "            fields {\n",
      "              key: \"tenant\"\n",
      "              value {\n",
      "                string_value: \"alphabet\"\n",
      "              }\n",
      "            }\n",
      "            fields {\n",
      "              key: \"title\"\n",
      "              value {\n",
      "                string_value: \"20090630_google_10Q.pdf\"\n",
      "              }\n",
      "            }\n",
      "            fields {\n",
      "              key: \"year\"\n",
      "              value {\n",
      "                string_value: \"2009\"\n",
      "              }\n",
      "            }\n",
      "          }\n",
      "        }\n",
      "      }\n",
      "    }\n",
      "    derived_struct_data {\n",
      "      fields {\n",
      "        key: \"snippets\"\n",
      "        value {\n",
      "          list_value {\n",
      "            values {\n",
      "              struct_value {\n",
      "                fields {\n",
      "                  key: \"snippet\"\n",
      "                  value {\n",
      "                    string_value: \"No snippet is available for this page.\"\n",
      "                  }\n",
      "                }\n",
      "                fields {\n",
      "                  key: \"snippet_status\"\n",
      "                  value {\n",
      "                    string_value: \"NO_SNIPPET_AVAILABLE\"\n",
      "                  }\n",
      "                }\n",
      "              }\n",
      "            }\n",
      "          }\n",
      "        }\n",
      "      }\n",
      "    }\n",
      "  }\n",
      "}\n",
      "total_size: 1\n",
      "attribution_token: \"_QHw_AoLCNGBkroGEKzDqXoSJDY3NDM0NmRjLTAwMDAtMjE4ZS04NmJkLTE0MjIzYmM5YWYwZSIHR0VORVJJQyq8Aa34sy2uxIot24-aIvn2sy2b1rct6d3EMLa3jC2OkckwxPi8MLeSrjCUksUwzua1L5jWty2Aspoijr6dFcH8yzDej5oioImzLcTGsTDFy_MXzpq0MKvEii389rMtjaS0MJzd2DCq-LMt0ea1L8uatDDC8J4Vlt6oL-iCsS2Q97Iw5-2ILcfGsTCjgJci1LKdFZCktDDk7Ygtwfi8MObdxDDrgrEtmd3YMKOJsy20kq4wg7KaIpneqC_E_MswMAE\"\n",
      "guided_search_result {\n",
      "}\n",
      "summary {\n",
      "  summary_text: \"Google\\'s financial results for the third quarter of 2009 are available in a PDF document. [1] The document is titled \\\"20090630_google_10Q.pdf\\\" and is categorized as a financial document. [1] The document is located in the \\\"gs://cloud-samples-data/gen-app-builder/search/alphabet-investor-pdfs\\\" directory. [1] The document is associated with Alphabet Inc., the parent company of Google. [1] The document is for the third quarter of 2009. [1] \\n\"\n",
      "}\n",
      "query_expansion_info {\n",
      "}\n",
      ">\n"
     ]
    }
   ],
   "source": [
    "search_query = \"what are google financial results\"\n",
    "filter_str = 'id: ANY(\\\"doc-25\\\")' #'name: ANY(\"Document1\")'\n",
    "\n",
    "results = search_data_store(\n",
    "    PROJECT_ID, LOCATION, DATA_STORE_ID, search_query, filter_str\n",
    ")\n",
    "\n",
    "print(f\"\\nQuestion: '{search_query}'\\n\\n\")\n",
    "print(\"Summary\" + \"-\" * 40)\n",
    "print(results.summary.summary_text)\n",
    "\n",
    "print(\"Raw Results\" + \"-\" * 40)\n",
    "print(results)"
   ]
  },
  {
   "cell_type": "markdown",
   "metadata": {
    "id": "4a927c39a4fc"
   },
   "source": [
    "Here is a slightly more complex filter based on 2 metadata values"
   ]
  },
  {
   "cell_type": "code",
   "execution_count": 10,
   "metadata": {
    "id": "c679d143e46d",
    "tags": []
   },
   "outputs": [
    {
     "name": "stdout",
     "output_type": "stream",
     "text": [
      "\n",
      "Question: 'how to understand google financial results of the quarter'\n",
      "\n",
      "\n",
      "Summary----------------------------------------\n",
      "Google's financial results for a quarter are typically presented in a 10-Q report. These reports are publicly available and can be found on the Google Investor Relations website. The 10-Q report provides a detailed overview of Google's financial performance for the quarter, including revenue, expenses, and net income. It also includes information about Google's business operations and future outlook. To understand Google's financial results, it is important to review the 10-Q report and any accompanying press releases. \n",
      "\n",
      "Raw Results----------------------------------------\n",
      "SearchPager<results {\n",
      "  id: \"1a24a714d7b0951995ab19e5d5934559\"\n",
      "  document {\n",
      "    name: \"projects/255766800726/locations/global/collections/default_collection/dataStores/cymbal-financial-datastore_1727706682106/branches/0/documents/1a24a714d7b0951995ab19e5d5934559\"\n",
      "    id: \"1a24a714d7b0951995ab19e5d5934559\"\n",
      "    struct_data {\n",
      "      fields {\n",
      "        key: \"content\"\n",
      "        value {\n",
      "          struct_value {\n",
      "            fields {\n",
      "              key: \"mimeType\"\n",
      "              value {\n",
      "                string_value: \"application/pdf\"\n",
      "              }\n",
      "            }\n",
      "            fields {\n",
      "              key: \"uri\"\n",
      "              value {\n",
      "                string_value: \"gs://cloud-samples-data/gen-app-builder/search/alphabet-investor-pdfs/20080930_google_10Q.pdf\"\n",
      "              }\n",
      "            }\n",
      "          }\n",
      "        }\n",
      "      }\n",
      "      fields {\n",
      "        key: \"id\"\n",
      "        value {\n",
      "          string_value: \"doc-170\"\n",
      "        }\n",
      "      }\n",
      "      fields {\n",
      "        key: \"structData\"\n",
      "        value {\n",
      "          struct_value {\n",
      "            fields {\n",
      "              key: \"category\"\n",
      "              value {\n",
      "                string_value: \"financial\"\n",
      "              }\n",
      "            }\n",
      "            fields {\n",
      "              key: \"description\"\n",
      "              value {\n",
      "                string_value: \"Alphabet Inc. financial document - 2008 Q30\"\n",
      "              }\n",
      "            }\n",
      "            fields {\n",
      "              key: \"quarter\"\n",
      "              value {\n",
      "                string_value: \"30\"\n",
      "              }\n",
      "            }\n",
      "            fields {\n",
      "              key: \"tenant\"\n",
      "              value {\n",
      "                string_value: \"alphabet\"\n",
      "              }\n",
      "            }\n",
      "            fields {\n",
      "              key: \"title\"\n",
      "              value {\n",
      "                string_value: \"20080930_google_10Q.pdf\"\n",
      "              }\n",
      "            }\n",
      "            fields {\n",
      "              key: \"year\"\n",
      "              value {\n",
      "                string_value: \"2008\"\n",
      "              }\n",
      "            }\n",
      "          }\n",
      "        }\n",
      "      }\n",
      "    }\n",
      "    derived_struct_data {\n",
      "      fields {\n",
      "        key: \"snippets\"\n",
      "        value {\n",
      "          list_value {\n",
      "            values {\n",
      "              struct_value {\n",
      "                fields {\n",
      "                  key: \"snippet\"\n",
      "                  value {\n",
      "                    string_value: \"No snippet is available for this page.\"\n",
      "                  }\n",
      "                }\n",
      "                fields {\n",
      "                  key: \"snippet_status\"\n",
      "                  value {\n",
      "                    string_value: \"NO_SNIPPET_AVAILABLE\"\n",
      "                  }\n",
      "                }\n",
      "              }\n",
      "            }\n",
      "          }\n",
      "        }\n",
      "      }\n",
      "    }\n",
      "  }\n",
      "}\n",
      "results {\n",
      "  id: \"00f88c892eea9b99d85efa30a90c105a\"\n",
      "  document {\n",
      "    name: \"projects/255766800726/locations/global/collections/default_collection/dataStores/cymbal-financial-datastore_1727706682106/branches/0/documents/00f88c892eea9b99d85efa30a90c105a\"\n",
      "    id: \"00f88c892eea9b99d85efa30a90c105a\"\n",
      "    struct_data {\n",
      "      fields {\n",
      "        key: \"content\"\n",
      "        value {\n",
      "          struct_value {\n",
      "            fields {\n",
      "              key: \"mimeType\"\n",
      "              value {\n",
      "                string_value: \"application/pdf\"\n",
      "              }\n",
      "            }\n",
      "            fields {\n",
      "              key: \"uri\"\n",
      "              value {\n",
      "                string_value: \"gs://cloud-samples-data/gen-app-builder/search/alphabet-investor-pdfs/20090630_google_10Q.pdf\"\n",
      "              }\n",
      "            }\n",
      "          }\n",
      "        }\n",
      "      }\n",
      "      fields {\n",
      "        key: \"id\"\n",
      "        value {\n",
      "          string_value: \"doc-25\"\n",
      "        }\n",
      "      }\n",
      "      fields {\n",
      "        key: \"structData\"\n",
      "        value {\n",
      "          struct_value {\n",
      "            fields {\n",
      "              key: \"category\"\n",
      "              value {\n",
      "                string_value: \"financial\"\n",
      "              }\n",
      "            }\n",
      "            fields {\n",
      "              key: \"description\"\n",
      "              value {\n",
      "                string_value: \"Alphabet Inc. financial document - 2009 Q30\"\n",
      "              }\n",
      "            }\n",
      "            fields {\n",
      "              key: \"quarter\"\n",
      "              value {\n",
      "                string_value: \"30\"\n",
      "              }\n",
      "            }\n",
      "            fields {\n",
      "              key: \"tenant\"\n",
      "              value {\n",
      "                string_value: \"alphabet\"\n",
      "              }\n",
      "            }\n",
      "            fields {\n",
      "              key: \"title\"\n",
      "              value {\n",
      "                string_value: \"20090630_google_10Q.pdf\"\n",
      "              }\n",
      "            }\n",
      "            fields {\n",
      "              key: \"year\"\n",
      "              value {\n",
      "                string_value: \"2009\"\n",
      "              }\n",
      "            }\n",
      "          }\n",
      "        }\n",
      "      }\n",
      "    }\n",
      "    derived_struct_data {\n",
      "      fields {\n",
      "        key: \"snippets\"\n",
      "        value {\n",
      "          list_value {\n",
      "            values {\n",
      "              struct_value {\n",
      "                fields {\n",
      "                  key: \"snippet\"\n",
      "                  value {\n",
      "                    string_value: \"No snippet is available for this page.\"\n",
      "                  }\n",
      "                }\n",
      "                fields {\n",
      "                  key: \"snippet_status\"\n",
      "                  value {\n",
      "                    string_value: \"NO_SNIPPET_AVAILABLE\"\n",
      "                  }\n",
      "                }\n",
      "              }\n",
      "            }\n",
      "          }\n",
      "        }\n",
      "      }\n",
      "    }\n",
      "  }\n",
      "}\n",
      "total_size: 2\n",
      "attribution_token: \"_gHw_QoMCNKBkroGELLBlNUCEiQ2NzQwYjhjOC0wMDAwLTIxOWUtYmNjNi1iOGRiMzhmNGU0NGEiB0dFTkVSSUMqvAGq-LMtnNa3LavEii389rMt0ea1L6CJsy3ExrEwzpq0MI2ktDDej5oin9a3LcfL8xfB_Mswjr6dFYCymiK3kq4wzua1L5SSxTCOkckwxPi8MPn2sy3p3cQwrsSKLduPmiKZ3qgvxPzLMK34sy2DspoitJKuMJnd2DDrgrEto4mzLeTtiC3B-Lwwx8axMOftiC3Usp0Vo4CXIubdxDDC8J4Vlt6oL7e3jC3ogrEtkPeyMJCktDDLmrQwnN3YMDAB\"\n",
      "guided_search_result {\n",
      "}\n",
      "summary {\n",
      "  summary_text: \"Google\\'s financial results for a quarter are typically presented in a 10-Q report. These reports are publicly available and can be found on the Google Investor Relations website. The 10-Q report provides a detailed overview of Google\\'s financial performance for the quarter, including revenue, expenses, and net income. It also includes information about Google\\'s business operations and future outlook. To understand Google\\'s financial results, it is important to review the 10-Q report and any accompanying press releases. \\n\"\n",
      "}\n",
      "query_expansion_info {\n",
      "}\n",
      ">\n"
     ]
    }
   ],
   "source": [
    "search_query = \"how to understand google financial results of the quarter\"\n",
    "filter_str = 'id: ANY(\"doc-25\") OR id: ANY(\"doc-170\")'\n",
    "\n",
    "results = search_data_store(\n",
    "    PROJECT_ID, LOCATION, DATA_STORE_ID, search_query, filter_str\n",
    ")\n",
    "\n",
    "print(f\"\\nQuestion: '{search_query}'\\n\\n\")\n",
    "print(\"Summary\" + \"-\" * 40)\n",
    "print(results.summary.summary_text)\n",
    "\n",
    "print(\"Raw Results\" + \"-\" * 40)\n",
    "print(results)"
   ]
  },
  {
   "cell_type": "markdown",
   "metadata": {},
   "source": [
    "### "
   ]
  },
  {
   "cell_type": "code",
   "execution_count": 25,
   "metadata": {
    "scrolled": true,
    "tags": []
   },
   "outputs": [
    {
     "name": "stdout",
     "output_type": "stream",
     "text": [
      "Requirement already satisfied: google-cloud-discoveryengine in /home/jupyter/.local/lib/python3.10/site-packages (0.11.2)\n",
      "Collecting google-cloud-discoveryengine\n",
      "  Downloading google_cloud_discoveryengine-0.13.4-py3-none-any.whl.metadata (5.3 kB)\n",
      "Requirement already satisfied: google-api-core!=2.0.*,!=2.1.*,!=2.10.*,!=2.2.*,!=2.3.*,!=2.4.*,!=2.5.*,!=2.6.*,!=2.7.*,!=2.8.*,!=2.9.*,<3.0.0dev,>=1.34.1 in /opt/conda/lib/python3.10/site-packages (from google-api-core[grpc]!=2.0.*,!=2.1.*,!=2.10.*,!=2.2.*,!=2.3.*,!=2.4.*,!=2.5.*,!=2.6.*,!=2.7.*,!=2.8.*,!=2.9.*,<3.0.0dev,>=1.34.1->google-cloud-discoveryengine) (2.23.0)\n",
      "Requirement already satisfied: google-auth!=2.24.0,!=2.25.0,<3.0.0dev,>=2.14.1 in /opt/conda/lib/python3.10/site-packages (from google-cloud-discoveryengine) (2.35.0)\n",
      "Requirement already satisfied: proto-plus<2.0.0dev,>=1.22.3 in /opt/conda/lib/python3.10/site-packages (from google-cloud-discoveryengine) (1.24.0)\n",
      "Requirement already satisfied: protobuf!=4.21.0,!=4.21.1,!=4.21.2,!=4.21.3,!=4.21.4,!=4.21.5,<6.0.0dev,>=3.20.2 in /opt/conda/lib/python3.10/site-packages (from google-cloud-discoveryengine) (3.20.3)\n",
      "Requirement already satisfied: googleapis-common-protos<2.0.dev0,>=1.56.2 in /opt/conda/lib/python3.10/site-packages (from google-api-core!=2.0.*,!=2.1.*,!=2.10.*,!=2.2.*,!=2.3.*,!=2.4.*,!=2.5.*,!=2.6.*,!=2.7.*,!=2.8.*,!=2.9.*,<3.0.0dev,>=1.34.1->google-api-core[grpc]!=2.0.*,!=2.1.*,!=2.10.*,!=2.2.*,!=2.3.*,!=2.4.*,!=2.5.*,!=2.6.*,!=2.7.*,!=2.8.*,!=2.9.*,<3.0.0dev,>=1.34.1->google-cloud-discoveryengine) (1.65.0)\n",
      "Requirement already satisfied: requests<3.0.0.dev0,>=2.18.0 in /opt/conda/lib/python3.10/site-packages (from google-api-core!=2.0.*,!=2.1.*,!=2.10.*,!=2.2.*,!=2.3.*,!=2.4.*,!=2.5.*,!=2.6.*,!=2.7.*,!=2.8.*,!=2.9.*,<3.0.0dev,>=1.34.1->google-api-core[grpc]!=2.0.*,!=2.1.*,!=2.10.*,!=2.2.*,!=2.3.*,!=2.4.*,!=2.5.*,!=2.6.*,!=2.7.*,!=2.8.*,!=2.9.*,<3.0.0dev,>=1.34.1->google-cloud-discoveryengine) (2.32.3)\n",
      "Requirement already satisfied: grpcio<2.0dev,>=1.33.2 in /opt/conda/lib/python3.10/site-packages (from google-api-core[grpc]!=2.0.*,!=2.1.*,!=2.10.*,!=2.2.*,!=2.3.*,!=2.4.*,!=2.5.*,!=2.6.*,!=2.7.*,!=2.8.*,!=2.9.*,<3.0.0dev,>=1.34.1->google-cloud-discoveryengine) (1.66.1)\n",
      "Requirement already satisfied: grpcio-status<2.0.dev0,>=1.33.2 in /opt/conda/lib/python3.10/site-packages (from google-api-core[grpc]!=2.0.*,!=2.1.*,!=2.10.*,!=2.2.*,!=2.3.*,!=2.4.*,!=2.5.*,!=2.6.*,!=2.7.*,!=2.8.*,!=2.9.*,<3.0.0dev,>=1.34.1->google-cloud-discoveryengine) (1.48.2)\n",
      "Requirement already satisfied: cachetools<6.0,>=2.0.0 in /opt/conda/lib/python3.10/site-packages (from google-auth!=2.24.0,!=2.25.0,<3.0.0dev,>=2.14.1->google-cloud-discoveryengine) (5.5.0)\n",
      "Requirement already satisfied: pyasn1-modules>=0.2.1 in /opt/conda/lib/python3.10/site-packages (from google-auth!=2.24.0,!=2.25.0,<3.0.0dev,>=2.14.1->google-cloud-discoveryengine) (0.4.1)\n",
      "Requirement already satisfied: rsa<5,>=3.1.4 in /opt/conda/lib/python3.10/site-packages (from google-auth!=2.24.0,!=2.25.0,<3.0.0dev,>=2.14.1->google-cloud-discoveryengine) (4.9)\n",
      "Requirement already satisfied: pyasn1<0.7.0,>=0.4.6 in /opt/conda/lib/python3.10/site-packages (from pyasn1-modules>=0.2.1->google-auth!=2.24.0,!=2.25.0,<3.0.0dev,>=2.14.1->google-cloud-discoveryengine) (0.6.1)\n",
      "Requirement already satisfied: charset-normalizer<4,>=2 in /opt/conda/lib/python3.10/site-packages (from requests<3.0.0.dev0,>=2.18.0->google-api-core!=2.0.*,!=2.1.*,!=2.10.*,!=2.2.*,!=2.3.*,!=2.4.*,!=2.5.*,!=2.6.*,!=2.7.*,!=2.8.*,!=2.9.*,<3.0.0dev,>=1.34.1->google-api-core[grpc]!=2.0.*,!=2.1.*,!=2.10.*,!=2.2.*,!=2.3.*,!=2.4.*,!=2.5.*,!=2.6.*,!=2.7.*,!=2.8.*,!=2.9.*,<3.0.0dev,>=1.34.1->google-cloud-discoveryengine) (3.3.2)\n",
      "Requirement already satisfied: idna<4,>=2.5 in /opt/conda/lib/python3.10/site-packages (from requests<3.0.0.dev0,>=2.18.0->google-api-core!=2.0.*,!=2.1.*,!=2.10.*,!=2.2.*,!=2.3.*,!=2.4.*,!=2.5.*,!=2.6.*,!=2.7.*,!=2.8.*,!=2.9.*,<3.0.0dev,>=1.34.1->google-api-core[grpc]!=2.0.*,!=2.1.*,!=2.10.*,!=2.2.*,!=2.3.*,!=2.4.*,!=2.5.*,!=2.6.*,!=2.7.*,!=2.8.*,!=2.9.*,<3.0.0dev,>=1.34.1->google-cloud-discoveryengine) (3.8)\n",
      "Requirement already satisfied: urllib3<3,>=1.21.1 in /opt/conda/lib/python3.10/site-packages (from requests<3.0.0.dev0,>=2.18.0->google-api-core!=2.0.*,!=2.1.*,!=2.10.*,!=2.2.*,!=2.3.*,!=2.4.*,!=2.5.*,!=2.6.*,!=2.7.*,!=2.8.*,!=2.9.*,<3.0.0dev,>=1.34.1->google-api-core[grpc]!=2.0.*,!=2.1.*,!=2.10.*,!=2.2.*,!=2.3.*,!=2.4.*,!=2.5.*,!=2.6.*,!=2.7.*,!=2.8.*,!=2.9.*,<3.0.0dev,>=1.34.1->google-cloud-discoveryengine) (2.2.3)\n",
      "Requirement already satisfied: certifi>=2017.4.17 in /opt/conda/lib/python3.10/site-packages (from requests<3.0.0.dev0,>=2.18.0->google-api-core!=2.0.*,!=2.1.*,!=2.10.*,!=2.2.*,!=2.3.*,!=2.4.*,!=2.5.*,!=2.6.*,!=2.7.*,!=2.8.*,!=2.9.*,<3.0.0dev,>=1.34.1->google-api-core[grpc]!=2.0.*,!=2.1.*,!=2.10.*,!=2.2.*,!=2.3.*,!=2.4.*,!=2.5.*,!=2.6.*,!=2.7.*,!=2.8.*,!=2.9.*,<3.0.0dev,>=1.34.1->google-cloud-discoveryengine) (2024.8.30)\n",
      "Downloading google_cloud_discoveryengine-0.13.4-py3-none-any.whl (2.7 MB)\n",
      "\u001b[2K   \u001b[90m━━━━━━━━━━━━━━━━━━━━━━━━━━━━━━━━━━━━━━━━\u001b[0m \u001b[32m2.7/2.7 MB\u001b[0m \u001b[31m51.7 MB/s\u001b[0m eta \u001b[36m0:00:00\u001b[0m\n",
      "\u001b[?25hInstalling collected packages: google-cloud-discoveryengine\n",
      "  Attempting uninstall: google-cloud-discoveryengine\n",
      "    Found existing installation: google-cloud-discoveryengine 0.11.2\n",
      "    Uninstalling google-cloud-discoveryengine-0.11.2:\n",
      "      Successfully uninstalled google-cloud-discoveryengine-0.11.2\n",
      "Successfully installed google-cloud-discoveryengine-0.11.14\n"
     ]
    }
   ],
   "source": [
    "!pip install --upgrade google-cloud-discoveryengine"
   ]
  },
  {
   "cell_type": "code",
   "execution_count": 29,
   "metadata": {
    "tags": []
   },
   "outputs": [],
   "source": [
    "from langchain.chains import (\n",
    "    ConversationalRetrievalChain,\n",
    "    RetrievalQA,\n",
    "    RetrievalQAWithSourcesChain,\n",
    ")\n",
    "from langchain_google_vertexai import VertexAI\n",
    "from langchain.memory import ConversationBufferMemory\n",
    "from langchain.prompts import PromptTemplate\n",
    "from langchain_google_community import (\n",
    "    VertexAIMultiTurnSearchRetriever,\n",
    "    VertexAISearchRetriever,\n",
    ")\n",
    "MODEL = \"gemini-1.5-pro\"  # @param {type:\"string\"}\n",
    "DATA_STORE_LOCATION = \"global\"  # @param {type:\"string\"}\n",
    "\n",
    "llm = VertexAI(model_name=MODEL)\n",
    "\n",
    "retriever = VertexAISearchRetriever(\n",
    "    project_id=PROJECT_ID,\n",
    "    location_id=DATA_STORE_LOCATION,\n",
    "    data_store_id=DATA_STORE_ID,\n",
    "    get_extractive_answers=True,\n",
    "    max_documents=10,\n",
    "    max_extractive_segment_count=1,\n",
    "    max_extractive_answer_count=5,\n",
    ")"
   ]
  },
  {
   "cell_type": "code",
   "execution_count": 32,
   "metadata": {
    "tags": []
   },
   "outputs": [
    {
     "name": "stdout",
     "output_type": "stream",
     "text": [
      "Use the following pieces of context to answer the question at the end. If you don't know the answer, just say that you don't know, don't try to make up an answer.\n",
      "\n",
      "{context}\n",
      "\n",
      "Question: {question}\n",
      "Helpful Answer:\n"
     ]
    }
   ],
   "source": [
    "qa = RetrievalQA.from_chain_type(\n",
    "    llm=llm, chain_type=\"stuff\", retriever=retriever, return_source_documents=True\n",
    ")\n",
    "\n",
    "print(qa.combine_documents_chain.llm_chain.prompt.template)"
   ]
  },
  {
   "cell_type": "code",
   "execution_count": 33,
   "metadata": {
    "tags": []
   },
   "outputs": [],
   "source": [
    "prompt_template = \"\"\"Use the context to answer the question at the end.\n",
    "You must always use the context and context only to answer the question. Never try to make up an answer. If the context is empty or you do not know the answer, just say \"I don't know\".\n",
    "The answer should consist of only 1 word and not a sentence.\n",
    "\n",
    "Context: {context}\n",
    "\n",
    "Question: {question}\n",
    "Helpful Answer:\n",
    "\"\"\"\n",
    "prompt = PromptTemplate(\n",
    "    template=prompt_template, input_variables=[\"context\", \"question\"]\n",
    ")\n",
    "qa_chain = RetrievalQA.from_llm(\n",
    "    llm=llm, prompt=prompt, retriever=retriever, return_source_documents=True\n",
    ")\n",
    "     \n"
   ]
  },
  {
   "cell_type": "code",
   "execution_count": 34,
   "metadata": {
    "tags": []
   },
   "outputs": [
    {
     "name": "stdout",
     "output_type": "stream",
     "text": [
      "Use the context to answer the question at the end.\n",
      "You must always use the context and context only to answer the question. Never try to make up an answer. If the context is empty or you do not know the answer, just say \"I don't know\".\n",
      "The answer should consist of only 1 word and not a sentence.\n",
      "\n",
      "Context: {context}\n",
      "\n",
      "Question: {question}\n",
      "Helpful Answer:\n",
      "\n"
     ]
    }
   ],
   "source": [
    "print(qa_chain.combine_documents_chain.llm_chain.prompt.template)\n"
   ]
  },
  {
   "cell_type": "code",
   "execution_count": 36,
   "metadata": {
    "tags": []
   },
   "outputs": [
    {
     "ename": "NameError",
     "evalue": "name 'LOCATION_ID' is not defined",
     "output_type": "error",
     "traceback": [
      "\u001b[0;31m---------------------------------------------------------------------------\u001b[0m",
      "\u001b[0;31mNameError\u001b[0m                                 Traceback (most recent call last)",
      "Cell \u001b[0;32mIn[36], line 3\u001b[0m\n\u001b[1;32m      1\u001b[0m retriever \u001b[38;5;241m=\u001b[39m VertexAISearchRetriever(\n\u001b[1;32m      2\u001b[0m     project_id\u001b[38;5;241m=\u001b[39mPROJECT_ID,\n\u001b[0;32m----> 3\u001b[0m     location_id\u001b[38;5;241m=\u001b[39m\u001b[43mLOCATION_ID\u001b[49m,\n\u001b[1;32m      4\u001b[0m     data_store_id\u001b[38;5;241m=\u001b[39mDATA_STORE_ID,\n\u001b[1;32m      5\u001b[0m     max_documents\u001b[38;5;241m=\u001b[39m\u001b[38;5;241m3\u001b[39m,\n\u001b[1;32m      6\u001b[0m )\n\u001b[1;32m      8\u001b[0m query \u001b[38;5;241m=\u001b[39m \u001b[38;5;124m\"\u001b[39m\u001b[38;5;124mWhat are Alphabet\u001b[39m\u001b[38;5;124m'\u001b[39m\u001b[38;5;124ms Other Bets?\u001b[39m\u001b[38;5;124m\"\u001b[39m\n\u001b[1;32m     10\u001b[0m result \u001b[38;5;241m=\u001b[39m retriever\u001b[38;5;241m.\u001b[39minvoke(query)\n",
      "\u001b[0;31mNameError\u001b[0m: name 'LOCATION_ID' is not defined"
     ]
    }
   ],
   "source": [
    "retriever = VertexAISearchRetriever(\n",
    "    project_id=PROJECT_ID,\n",
    "    location_id=DATA_STORE_LOCATION,\n",
    "    data_store_id=DATA_STORE_ID,\n",
    "    max_documents=3,\n",
    ")\n",
    "\n",
    "query = \"What are Alphabet's Other Bets?\"\n",
    "\n",
    "result = retriever.invoke(query)\n",
    "for doc in result:\n",
    "    print(doc)"
   ]
  },
  {
   "cell_type": "code",
   "execution_count": null,
   "metadata": {},
   "outputs": [],
   "source": []
  },
  {
   "cell_type": "code",
   "execution_count": null,
   "metadata": {},
   "outputs": [],
   "source": []
  }
 ],
 "metadata": {
  "colab": {
   "name": "search_filters_metadata.ipynb",
   "toc_visible": true
  },
  "environment": {
   "kernel": "conda-base-py311",
   "name": "workbench-notebooks.m125",
   "type": "gcloud",
   "uri": "us-docker.pkg.dev/deeplearning-platform-release/gcr.io/workbench-notebooks:m125"
  },
  "kernelspec": {
   "display_name": "py311 (Local)",
   "language": "python",
   "name": "conda-base-py311"
  },
  "language_info": {
   "codemirror_mode": {
    "name": "ipython",
    "version": 3
   },
   "file_extension": ".py",
   "mimetype": "text/x-python",
   "name": "python",
   "nbconvert_exporter": "python",
   "pygments_lexer": "ipython3",
   "version": "3.10.15"
  }
 },
 "nbformat": 4,
 "nbformat_minor": 4
}
